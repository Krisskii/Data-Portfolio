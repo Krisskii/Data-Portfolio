{
  "nbformat": 4,
  "nbformat_minor": 0,
  "metadata": {
    "colab": {
      "name": "for and while loops.ipynb",
      "provenance": [],
      "authorship_tag": "ABX9TyOcSrnmRhVVpsTjRXrtoPha",
      "include_colab_link": true
    },
    "kernelspec": {
      "name": "python3",
      "display_name": "Python 3"
    },
    "language_info": {
      "name": "python"
    }
  },
  "cells": [
    {
      "cell_type": "markdown",
      "metadata": {
        "id": "view-in-github",
        "colab_type": "text"
      },
      "source": [
        "<a href=\"https://colab.research.google.com/github/Krisskii/Data-Portfolio/blob/main/for_and_while_loops.ipynb\" target=\"_parent\"><img src=\"https://colab.research.google.com/assets/colab-badge.svg\" alt=\"Open In Colab\"/></a>"
      ]
    },
    {
      "cell_type": "code",
      "execution_count": 1,
      "metadata": {
        "colab": {
          "base_uri": "https://localhost:8080/"
        },
        "id": "49PLNtWFbj4m",
        "outputId": "c98b0020-1658-4f42-86aa-10d4bc4e1a66"
      },
      "outputs": [
        {
          "output_type": "stream",
          "name": "stdout",
          "text": [
            "2003\n",
            "1976\n",
            "2020\n"
          ]
        }
      ],
      "source": [
        "dates = [2003, 1976, 2020]\n",
        "N = len(dates)\n",
        "\n",
        "for i in range(N):\n",
        "  print(dates[i])"
      ]
    },
    {
      "cell_type": "code",
      "source": [
        "for i in range(0, 8):\n",
        "  print(i)"
      ],
      "metadata": {
        "colab": {
          "base_uri": "https://localhost:8080/"
        },
        "id": "YZfk1MIwb1Iy",
        "outputId": "de995063-2a9c-4d7d-e1cd-65f50f92fbb4"
      },
      "execution_count": 2,
      "outputs": [
        {
          "output_type": "stream",
          "name": "stdout",
          "text": [
            "0\n",
            "1\n",
            "2\n",
            "3\n",
            "4\n",
            "5\n",
            "6\n",
            "7\n"
          ]
        }
      ]
    },
    {
      "cell_type": "code",
      "source": [
        "for year in dates:\n",
        "  print(year)"
      ],
      "metadata": {
        "colab": {
          "base_uri": "https://localhost:8080/"
        },
        "id": "qWQr9LZLcZrW",
        "outputId": "76fe2b6e-4d42-45de-feb5-3eab4533291a"
      },
      "execution_count": 3,
      "outputs": [
        {
          "output_type": "stream",
          "name": "stdout",
          "text": [
            "2003\n",
            "1976\n",
            "2020\n"
          ]
        }
      ]
    },
    {
      "cell_type": "code",
      "source": [
        "Squares = ['red', 'yellow', 'green', 'purple', 'blue']\n",
        "\n",
        "for i in range(0, 5):\n",
        "  print(\"Before square \", i, 'is', Squares[i])\n",
        "  Squares[i] = 'weight'\n",
        "  print(\"After square \", i, 'is', Squares[i])"
      ],
      "metadata": {
        "colab": {
          "base_uri": "https://localhost:8080/"
        },
        "id": "MIuch88Fcg13",
        "outputId": "eb7e05ff-8bb4-4a75-bd78-6ead5469b0ab"
      },
      "execution_count": 8,
      "outputs": [
        {
          "output_type": "stream",
          "name": "stdout",
          "text": [
            "Before square  0 is red\n",
            "After square  0 is weight\n",
            "Before square  1 is yellow\n",
            "After square  1 is weight\n",
            "Before square  2 is green\n",
            "After square  2 is weight\n",
            "Before square  3 is purple\n",
            "After square  3 is weight\n",
            "Before square  4 is blue\n",
            "After square  4 is weight\n"
          ]
        }
      ]
    },
    {
      "cell_type": "code",
      "source": [
        "dates = [1982, 1980, 1973, 2000]\n",
        "\n",
        "i = 0\n",
        "year = 0\n",
        "while(year != 1973):\n",
        "  year = dates[i]\n",
        "  i = i + 1\n",
        "  print(year)\n",
        "  print(\"It took\", i ,\"repetitions to get out of this loop.\")"
      ],
      "metadata": {
        "colab": {
          "base_uri": "https://localhost:8080/"
        },
        "id": "PfeL7t50d2_7",
        "outputId": "c3f83096-933b-4518-ed14-a97ac771f23f"
      },
      "execution_count": 10,
      "outputs": [
        {
          "output_type": "stream",
          "name": "stdout",
          "text": [
            "1982\n",
            "It took 1 repetitions to get out of this loop.\n",
            "1980\n",
            "It took 2 repetitions to get out of this loop.\n",
            "1973\n",
            "It took 3 repetitions to get out of this loop.\n"
          ]
        }
      ]
    },
    {
      "cell_type": "code",
      "source": [
        ""
      ],
      "metadata": {
        "id": "cJ9BTBV4eaBk"
      },
      "execution_count": null,
      "outputs": []
    }
  ]
}